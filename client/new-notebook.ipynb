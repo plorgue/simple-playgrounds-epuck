{
 "cells": [
  {
   "cell_type": "code",
   "execution_count": null,
   "metadata": {
    "collapsed": false,
    "pycharm": {
     "name": "#%%\n"
    }
   },
   "outputs": [],
   "source": [
    "\"\"\"\n",
    "# Used only for Dev\n",
    "\n",
    "import simulator, agent, simulator_interface, behavior\n",
    "from importlib import reload\n",
    "reload(simulator)\n",
    "reload(behavior)\n",
    "reload(simulator_interface)\n",
    "reload(agent)\n",
    "\n",
    "\"\"\""
   ]
  },
  {
   "cell_type": "code",
   "execution_count": 1,
   "metadata": {
    "collapsed": false,
    "pycharm": {
     "name": "#%%\n"
    }
   },
   "outputs": [],
   "source": [
    "from simulator_interface import open_session, close_session\n",
    "simulator, epuck1, epuck2 = open_session(nb_agents=2)"
   ]
  },
  {
   "cell_type": "code",
   "execution_count": 15,
   "metadata": {
    "collapsed": false,
    "pycharm": {
     "name": "#%%\n"
    }
   },
   "outputs": [],
   "source": [
    "epuck1.wait(3)\n",
    "\n",
    "epuck1.left_spd = -5\n",
    "epuck1.right_spd = -6\n",
    "\n",
    "epuck1.wait(3)\n",
    "\n",
    "epuck1.left_spd = 0\n",
    "epuck1.right_spd = 0\n",
    "\n",
    "epuck1.wait(3)"
   ]
  },
  {
   "cell_type": "code",
   "execution_count": 10,
   "metadata": {},
   "outputs": [],
   "source": [
    "def obstacle_avoidance(robot):\n",
    "    sensors = robot.prox_activations()\n",
    "    right = sensors['right'].get('dist', 1)\n",
    "    left = sensors['left'].get('dist', 1)\n",
    "    left_wheel =  right * robot.max_speed\n",
    "    right_wheel =  left * robot.max_speed\n",
    "    # print('\\r', left, '\\t' ,right, '\\t', left_wheel, '\\t', right_wheel, \" \"*100, end=\"\")\n",
    "    return left_wheel, right_wheel"
   ]
  },
  {
   "cell_type": "code",
   "execution_count": 13,
   "metadata": {},
   "outputs": [
    {
     "name": "stdout",
     "output_type": "stream",
     "text": [
      "Behavior obstacle_avoidance started\n",
      " 1 \t 1 \t 10.0 \t 10.0                                                                                                                                                                  "
     ]
    }
   ],
   "source": [
    "epuck1.detach_all_behaviors()\n",
    "epuck1.attach_behavior(obstacle_avoidance, freq=1)\n",
    "epuck1.start_behavior(obstacle_avoidance)"
   ]
  },
  {
   "cell_type": "code",
   "execution_count": 14,
   "metadata": {},
   "outputs": [
    {
     "name": "stdout",
     "output_type": "stream",
     "text": [
      "Behavior obstacle_avoidance stopped\n"
     ]
    }
   ],
   "source": [
    "epuck1.stop_behavior(obstacle_avoidance)"
   ]
  },
  {
   "cell_type": "code",
   "execution_count": 15,
   "metadata": {
    "collapsed": false,
    "pycharm": {
     "name": "#%%\n"
    }
   },
   "outputs": [],
   "source": [
    "close_session(simulator)"
   ]
  }
 ],
 "metadata": {
  "kernelspec": {
   "display_name": "Python 3",
   "language": "python",
   "name": "python3"
  },
  "language_info": {
   "codemirror_mode": {
    "name": "ipython",
    "version": 3
   },
   "file_extension": ".py",
   "mimetype": "text/x-python",
   "name": "python",
   "nbconvert_exporter": "python",
   "pygments_lexer": "ipython3",
   "version": "3.8.12"
  }
 },
 "nbformat": 4,
 "nbformat_minor": 0
}
