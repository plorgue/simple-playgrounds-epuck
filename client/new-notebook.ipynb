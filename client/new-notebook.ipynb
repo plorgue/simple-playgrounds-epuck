{
 "cells": [
  {
   "cell_type": "code",
   "execution_count": 184,
   "outputs": [
    {
     "data": {
      "text/plain": "<module 'agent' from '/Users/jalalizekki/ia/simple-playgrounds-epuck/client/agent.py'>"
     },
     "execution_count": 184,
     "metadata": {},
     "output_type": "execute_result"
    }
   ],
   "source": [
    "\"\"\"\n",
    "# Used only for Dev\n",
    "\n",
    "import simulator, agent, simulator_interface, behavior\n",
    "from importlib import reload\n",
    "reload(simulator)\n",
    "reload(behavior)\n",
    "reload(simulator_interface)\n",
    "reload(agent)\n",
    "\n",
    "\"\"\""
   ],
   "metadata": {
    "collapsed": false,
    "pycharm": {
     "name": "#%%\n"
    }
   }
  },
  {
   "cell_type": "code",
   "execution_count": 185,
   "outputs": [],
   "source": [
    "from simulator_interface import open_session, close_session\n",
    "simulator, epuck1, epuck2 = open_session(nb_agents=2)"
   ],
   "metadata": {
    "collapsed": false,
    "pycharm": {
     "name": "#%%\n"
    }
   }
  },
  {
   "cell_type": "code",
   "execution_count": 186,
   "outputs": [],
   "source": [
    "epuck1.wait(3)\n",
    "\n",
    "epuck1.left_spd = 3\n",
    "epuck1.right_spd = 3\n",
    "\n",
    "epuck1.wait(3)\n",
    "\n",
    "epuck1.left_spd = 0\n",
    "epuck1.right_spd = 0"
   ],
   "metadata": {
    "collapsed": false,
    "pycharm": {
     "name": "#%%\n"
    }
   }
  },
  {
   "cell_type": "code",
   "execution_count": 187,
   "outputs": [],
   "source": [
    "close_session(simulator)"
   ],
   "metadata": {
    "collapsed": false,
    "pycharm": {
     "name": "#%%\n"
    }
   }
  }
 ],
 "metadata": {
  "kernelspec": {
   "display_name": "Python 3",
   "language": "python",
   "name": "python3"
  },
  "language_info": {
   "codemirror_mode": {
    "name": "ipython",
    "version": 2
   },
   "file_extension": ".py",
   "mimetype": "text/x-python",
   "name": "python",
   "nbconvert_exporter": "python",
   "pygments_lexer": "ipython2",
   "version": "2.7.6"
  }
 },
 "nbformat": 4,
 "nbformat_minor": 0
}