{
 "cells": [
  {
   "cell_type": "code",
   "execution_count": 129,
   "metadata": {
    "pycharm": {
     "is_executing": true,
     "name": "#%%\n"
    }
   },
   "outputs": [
    {
     "data": {
      "text/plain": [
       "<module 'agent' from 'd:\\\\Github\\\\projet_semestriel\\\\simple-playgrounds-epuck\\\\client\\\\agent.py'>"
      ]
     },
     "execution_count": 129,
     "metadata": {},
     "output_type": "execute_result"
    }
   ],
   "source": [
    "\"\"\"\n",
    "#Used only for Dev\n",
    "\n",
    "import simulator, agent, simulator_interface, behavior\n",
    "from importlib import reload\n",
    "reload(simulator)\n",
    "reload(behavior)\n",
    "reload(simulator_interface)\n",
    "reload(agent)\n",
    "\n",
    "\"\"\""
   ]
  },
  {
   "cell_type": "markdown",
   "metadata": {
    "collapsed": false
   },
   "source": [
    "# Preparing the simulator"
   ]
  },
  {
   "cell_type": "code",
   "execution_count": 1,
   "metadata": {
    "pycharm": {
     "name": "#%%\n"
    }
   },
   "outputs": [],
   "source": [
    "from simulator_interface import open_session, close_session\n",
    "agents = [\n",
    "    { \n",
    "        \"agent_type\": \"predator\",\n",
    "        \"initial_coordinates\": ((0.55,0.4),1.6),\n",
    "        \"radius\": 15,\n",
    "     },\n",
    "    { \n",
    "        \"agent_type\": \"prey\",\n",
    "        \"initial_coordinates\": ((0.5,0.6),-1.6),\n",
    "        \"radius\": 8,\n",
    "     }\n",
    "]\n",
    "simulator, predator, prey = open_session(nb_agents=len(agents), agents=agents)"
   ]
  },
  {
   "cell_type": "code",
   "execution_count": 2,
   "metadata": {},
   "outputs": [
    {
     "data": {
      "text/plain": [
       "'running'"
      ]
     },
     "execution_count": 2,
     "metadata": {},
     "output_type": "execute_result"
    }
   ],
   "source": [
    "simulator.status()"
   ]
  },
  {
   "cell_type": "markdown",
   "metadata": {
    "collapsed": false,
    "pycharm": {
     "name": "#%% md\n"
    }
   },
   "source": [
    "# Testing aggression, fear and obstacle avoidance behaviors"
   ]
  },
  {
   "cell_type": "code",
   "execution_count": 3,
   "metadata": {
    "collapsed": false,
    "pycharm": {
     "name": "#%%\n"
    }
   },
   "outputs": [],
   "source": [
    "def obstacle_avoidance(robot):\n",
    "    left, right = robot.prox_activations(excluded_objects=['prey', 'predator'])\n",
    "    return 1 - right, 1 - left, 1"
   ]
  },
  {
   "cell_type": "code",
   "execution_count": 4,
   "metadata": {},
   "outputs": [],
   "source": [
    "def aggression(robot):\n",
    "    tracked_objects=[\"prey\"]\n",
    "    left, right, obj_left, obj_right = robot.prox_activations(tracked_objects, return_epucks=True)\n",
    "    activation = 1\n",
    "    if obj_left not in tracked_objects:\n",
    "        left = 0\n",
    "    if obj_right not in tracked_objects:\n",
    "        right = 0\n",
    "    if obj_left not in tracked_objects and obj_right not in tracked_objects:\n",
    "        activation = 0\n",
    "    if obj_left in tracked_objects and obj_right in tracked_objects:\n",
    "        left = right = 0\n",
    "    return 1 - left, 1 - right, activation\n",
    "\n",
    "def fear(robot):\n",
    "    tracked_objects=[\"predator\"]\n",
    "    left, right, obj_left, obj_right = robot.prox_activations(tracked_objects, return_epucks=True)\n",
    "    activation = 1\n",
    "    if obj_left not in tracked_objects:\n",
    "        left = 0\n",
    "    if obj_right not in tracked_objects:\n",
    "        right = 0\n",
    "    if obj_left not in tracked_objects and obj_right not in tracked_objects:\n",
    "        activation = 0\n",
    "    return 1 - right, 1 - left, activation"
   ]
  },
  {
   "cell_type": "code",
   "execution_count": 5,
   "metadata": {},
   "outputs": [
    {
     "name": "stdout",
     "output_type": "stream",
     "text": [
      "Behavior obstacle_avoidance started\n",
      "Behavior aggression started\n"
     ]
    }
   ],
   "source": [
    "predator.detach_all_behaviors()\n",
    "\n",
    "predator.attach_behavior(obstacle_avoidance, freq=10)\n",
    "predator.attach_behavior(aggression, freq=10)\n",
    "\n",
    "predator.start_behavior(obstacle_avoidance)\n",
    "predator.start_behavior(aggression)"
   ]
  },
  {
   "cell_type": "code",
   "execution_count": 6,
   "metadata": {},
   "outputs": [
    {
     "name": "stdout",
     "output_type": "stream",
     "text": [
      "Behavior obstacle_avoidance started\n",
      "Behavior fear started\n"
     ]
    },
    {
     "name": "stderr",
     "output_type": "stream",
     "text": [
      "Exception in thread Thread-8:\n",
      "Traceback (most recent call last):\n",
      "  File \"C:\\Users\\paull\\anaconda3\\envs\\semes\\lib\\threading.py\", line 932, in _bootstrap_inner\n",
      "Exception in thread Thread-11:\n",
      "Traceback (most recent call last):\n",
      "  File \"C:\\Users\\paull\\anaconda3\\envs\\semes\\lib\\threading.py\", line 932, in _bootstrap_inner\n",
      "    self.run()\n",
      "  File \"d:\\Github\\projet_semestriel\\simple-playgrounds-epuck\\client\\behavior.py\", line 36, in run\n",
      "    self.run()\n",
      "  File \"d:\\Github\\projet_semestriel\\simple-playgrounds-epuck\\client\\behavior.py\", line 36, in run\n",
      "    self.loop_core()\n",
      "  File \"d:\\Github\\projet_semestriel\\simple-playgrounds-epuck\\client\\behavior.py\", line 75, in loop_core\n",
      "    self.loop_core()\n",
      "  File \"d:\\Github\\projet_semestriel\\simple-playgrounds-epuck\\client\\behavior.py\", line 75, in loop_core\n",
      "    res = self.callback(self.robot)\n",
      "  File \"C:\\Users\\paull\\AppData\\Local\\Temp/ipykernel_8236/431346895.py\", line 2, in obstacle_avoidance\n",
      "    res = self.callback(self.robot)\n",
      "  File \"C:\\Users\\paull\\AppData\\Local\\Temp/ipykernel_8236/288638774.py\", line 17, in fear\n",
      "  File \"d:\\Github\\projet_semestriel\\simple-playgrounds-epuck\\client\\agent.py\", line 184, in prox_activations\n",
      "  File \"d:\\Github\\projet_semestriel\\simple-playgrounds-epuck\\client\\agent.py\", line 184, in prox_activations\n",
      "    raise Exception(\"Could not get activations\")\n",
      "Exception: Could not get activations\n",
      "    raise Exception(\"Could not get activations\")\n",
      "Exception: Could not get activations\n"
     ]
    }
   ],
   "source": [
    "prey.detach_all_behaviors()\n",
    "\n",
    "prey.attach_behavior(obstacle_avoidance, freq=10)\n",
    "prey.attach_behavior(fear, freq=10)\n",
    "\n",
    "prey.start_behavior(obstacle_avoidance)\n",
    "prey.start_behavior(fear)"
   ]
  },
  {
   "cell_type": "code",
   "execution_count": 164,
   "metadata": {},
   "outputs": [
    {
     "name": "stdout",
     "output_type": "stream",
     "text": [
      "Behavior obstacle_avoidance stopped\n",
      "Behavior aggression stopped\n",
      "Behavior obstacle_avoidance stopped\n",
      "Behavior fear stopped\n"
     ]
    }
   ],
   "source": [
    "predator.stop_behavior(obstacle_avoidance)\n",
    "predator.stop_behavior(aggression)\n",
    "predator.stop()\n",
    "\n",
    "prey.stop_behavior(obstacle_avoidance)\n",
    "prey.stop_behavior(fear)\n",
    "prey.stop()"
   ]
  },
  {
   "cell_type": "markdown",
   "metadata": {
    "collapsed": false
   },
   "source": [
    "# Testing sphere apparition"
   ]
  },
  {
   "cell_type": "code",
   "execution_count": 9,
   "metadata": {
    "collapsed": false,
    "pycharm": {
     "name": "#%%\n"
    }
   },
   "outputs": [
    {
     "name": "stdout",
     "output_type": "stream",
     "text": [
      "Routine sphere_apparition started\n"
     ]
    }
   ],
   "source": [
    "simulator.start_sphere_apparition(period=5.)"
   ]
  },
  {
   "cell_type": "code",
   "execution_count": 10,
   "metadata": {
    "collapsed": false,
    "pycharm": {
     "name": "#%%\n"
    }
   },
   "outputs": [],
   "source": [
    "def seek_spheres(robot):\n",
    "    left, right = robot.prox_activations(tracked_objects=[\"Sphere\"])\n",
    "    left_wheel = 1 - left\n",
    "    right_wheel = 1 - right\n",
    "    return left_wheel, right_wheel, 1"
   ]
  },
  {
   "cell_type": "code",
   "execution_count": 11,
   "metadata": {
    "collapsed": false,
    "pycharm": {
     "name": "#%%\n"
    }
   },
   "outputs": [
    {
     "name": "stdout",
     "output_type": "stream",
     "text": [
      "Behavior seek_spheres started\n"
     ]
    }
   ],
   "source": [
    "predator.detach_all_behaviors()\n",
    "\n",
    "predator.attach_behavior(seek_spheres, freq=1)\n",
    "predator.start_behavior(seek_spheres)"
   ]
  },
  {
   "cell_type": "code",
   "execution_count": 12,
   "metadata": {
    "collapsed": false,
    "pycharm": {
     "name": "#%%\n"
    }
   },
   "outputs": [
    {
     "name": "stdout",
     "output_type": "stream",
     "text": [
      "Routine sphere_apparition stopped\n"
     ]
    }
   ],
   "source": [
    "simulator.stop_sphere_apparition()"
   ]
  },
  {
   "cell_type": "code",
   "execution_count": 24,
   "metadata": {
    "collapsed": false,
    "pycharm": {
     "name": "#%%\n"
    }
   },
   "outputs": [
    {
     "ename": "NameError",
     "evalue": "name 'seek_spheres' is not defined",
     "output_type": "error",
     "traceback": [
      "\u001b[1;31m---------------------------------------------------------------------------\u001b[0m",
      "\u001b[1;31mNameError\u001b[0m                                 Traceback (most recent call last)",
      "\u001b[1;32m~\\AppData\\Local\\Temp/ipykernel_9796/28789847.py\u001b[0m in \u001b[0;36m<module>\u001b[1;34m\u001b[0m\n\u001b[1;32m----> 1\u001b[1;33m \u001b[0mpredator\u001b[0m\u001b[1;33m.\u001b[0m\u001b[0mstop_behavior\u001b[0m\u001b[1;33m(\u001b[0m\u001b[0mseek_spheres\u001b[0m\u001b[1;33m)\u001b[0m\u001b[1;33m\u001b[0m\u001b[1;33m\u001b[0m\u001b[0m\n\u001b[0m\u001b[0;32m      2\u001b[0m \u001b[0mpredator\u001b[0m\u001b[1;33m.\u001b[0m\u001b[0mstop\u001b[0m\u001b[1;33m(\u001b[0m\u001b[1;33m)\u001b[0m\u001b[1;33m\u001b[0m\u001b[1;33m\u001b[0m\u001b[0m\n",
      "\u001b[1;31mNameError\u001b[0m: name 'seek_spheres' is not defined"
     ]
    }
   ],
   "source": [
    "predator.stop_behavior(seek_spheres)\n",
    "predator.stop()"
   ]
  },
  {
   "cell_type": "code",
   "execution_count": 101,
   "metadata": {
    "collapsed": false,
    "pycharm": {
     "name": "#%%\n"
    }
   },
   "outputs": [
    {
     "name": "stderr",
     "output_type": "stream",
     "text": [
      "Exception in thread Thread-84:\n",
      "Traceback (most recent call last):\n",
      "  File \"C:\\Users\\paull\\anaconda3\\envs\\semes\\lib\\threading.py\", line 932, in _bootstrap_inner\n",
      "Exception in thread Thread-85:\n",
      "Traceback (most recent call last):\n",
      "  File \"C:\\Users\\paull\\anaconda3\\envs\\semes\\lib\\threading.py\", line 932, in _bootstrap_inner\n",
      "    self.run()\n",
      "  File \"d:\\Github\\projet_semestriel\\simple-playgrounds-epuck\\client\\behavior.py\", line 36, in run\n",
      "    self.run()\n",
      "  File \"d:\\Github\\projet_semestriel\\simple-playgrounds-epuck\\client\\behavior.py\", line 36, in run\n",
      "    self.loop_core()\n",
      "  File \"d:\\Github\\projet_semestriel\\simple-playgrounds-epuck\\client\\behavior.py\", line 75, in loop_core\n",
      "    self.loop_core()\n",
      "  File \"d:\\Github\\projet_semestriel\\simple-playgrounds-epuck\\client\\behavior.py\", line 75, in loop_core\n",
      "    res = self.callback(self.robot)\n",
      "  File \"C:\\Users\\paull\\AppData\\Local\\Temp/ipykernel_9796/431346895.py\", line 2, in obstacle_avoidance\n",
      "    res = self.callback(self.robot)\n",
      "  File \"C:\\Users\\paull\\AppData\\Local\\Temp/ipykernel_9796/636646994.py\", line 3, in aggression\n",
      "  File \"d:\\Github\\projet_semestriel\\simple-playgrounds-epuck\\client\\agent.py\", line 184, in prox_activations\n",
      "  File \"d:\\Github\\projet_semestriel\\simple-playgrounds-epuck\\client\\agent.py\", line 184, in prox_activations\n",
      "    raise Exception(\"Could not get activations\")\n",
      "Exception: Could not get activations\n",
      "    raise Exception(\"Could not get activations\")\n",
      "Exception: Could not get activations\n"
     ]
    }
   ],
   "source": [
    "close_session(simulator)"
   ]
  }
 ],
 "metadata": {
  "kernelspec": {
   "display_name": "Python 3 (ipykernel)",
   "language": "python",
   "name": "python3"
  },
  "language_info": {
   "codemirror_mode": {
    "name": "ipython",
    "version": 3
   },
   "file_extension": ".py",
   "mimetype": "text/x-python",
   "name": "python",
   "nbconvert_exporter": "python",
   "pygments_lexer": "ipython3",
   "version": "3.8.12"
  }
 },
 "nbformat": 4,
 "nbformat_minor": 1
}
