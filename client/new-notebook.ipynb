{
 "cells": [
  {
   "cell_type": "code",
   "execution_count": 14,
   "metadata": {
    "pycharm": {
     "name": "#%%\n"
    }
   },
   "outputs": [],
   "source": [
    "\"\"\"\n",
    "#Used only for Dev\n",
    "\n",
    "import simulator, agent, simulator_interface, behavior\n",
    "from importlib import reload\n",
    "reload(simulator)\n",
    "reload(behavior)\n",
    "reload(simulator_interface)\n",
    "reload(agent)\n",
    "\"\"\""
   ]
  },
  {
   "cell_type": "code",
   "execution_count": 2,
   "metadata": {
    "pycharm": {
     "name": "#%%\n"
    }
   },
   "outputs": [],
   "source": [
    "from simulator_interface import open_session, close_session\n",
    "simulator, epuck1, epuck2 = open_session(nb_agents=2)"
   ]
  },
  {
   "cell_type": "code",
   "execution_count": 3,
   "metadata": {},
   "outputs": [
    {
     "data": {
      "text/plain": "'running'"
     },
     "execution_count": 3,
     "metadata": {},
     "output_type": "execute_result"
    }
   ],
   "source": [
    "simulator.status()"
   ]
  },
  {
   "cell_type": "code",
   "execution_count": 4,
   "metadata": {
    "pycharm": {
     "name": "#%%\n"
    }
   },
   "outputs": [],
   "source": [
    "epuck1.wait(3)\n",
    "\n",
    "epuck1.left_spd = 3\n",
    "epuck1.right_spd = 3\n",
    "\n",
    "epuck1.wait(3)\n",
    "\n",
    "epuck1.left_spd = 0\n",
    "epuck1.right_spd = 0\n",
    "\n",
    "epuck1.wait(3)"
   ]
  },
  {
   "cell_type": "code",
   "execution_count": 10,
   "outputs": [
    {
     "name": "stdout",
     "output_type": "stream",
     "text": [
      "[0.9771089275127539, 0.9771089275127539]\n"
     ]
    }
   ],
   "source": [
    "print(epuck1.prox_activations())"
   ],
   "metadata": {
    "collapsed": false,
    "pycharm": {
     "name": "#%%\n"
    }
   }
  },
  {
   "cell_type": "code",
   "execution_count": 11,
   "metadata": {},
   "outputs": [],
   "source": [
    "def obstacle_avoidance(robot):\n",
    "    left, right = robot.prox_activations()\n",
    "    # print('\\r', left, '\\t' ,right, '\\t', left_wheel, '\\t', right_wheel, \" \"*100, end=\"\")\n",
    "    return right, left"
   ]
  },
  {
   "cell_type": "code",
   "execution_count": 12,
   "metadata": {},
   "outputs": [
    {
     "name": "stdout",
     "output_type": "stream",
     "text": [
      "Behavior obstacle_avoidance started\n"
     ]
    }
   ],
   "source": [
    "epuck1.detach_all_behaviors()\n",
    "epuck1.attach_behavior(obstacle_avoidance, freq=1)\n",
    "epuck1.start_behavior(obstacle_avoidance)"
   ]
  },
  {
   "cell_type": "code",
   "execution_count": 13,
   "metadata": {},
   "outputs": [
    {
     "name": "stdout",
     "output_type": "stream",
     "text": [
      "Behavior obstacle_avoidance stopped\n"
     ]
    }
   ],
   "source": [
    "epuck1.stop_behavior(obstacle_avoidance)\n",
    "epuck1.stop()"
   ]
  },
  {
   "cell_type": "code",
   "execution_count": 14,
   "metadata": {
    "pycharm": {
     "name": "#%%\n"
    }
   },
   "outputs": [],
   "source": [
    "close_session(simulator)"
   ]
  }
 ],
 "metadata": {
  "kernelspec": {
   "display_name": "Python 3 (ipykernel)",
   "language": "python",
   "name": "python3"
  },
  "language_info": {
   "codemirror_mode": {
    "name": "ipython",
    "version": 3
   },
   "file_extension": ".py",
   "mimetype": "text/x-python",
   "name": "python",
   "nbconvert_exporter": "python",
   "pygments_lexer": "ipython3",
   "version": "3.8.9"
  }
 },
 "nbformat": 4,
 "nbformat_minor": 1
}