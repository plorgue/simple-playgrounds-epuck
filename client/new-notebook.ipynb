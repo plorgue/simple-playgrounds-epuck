{
 "cells": [
  {
   "cell_type": "code",
   "execution_count": null,
   "metadata": {
    "pycharm": {
     "is_executing": true,
     "name": "#%%\n"
    }
   },
   "outputs": [],
   "source": [
    "\"\"\"\n",
    "#Used only for Dev\n",
    "\n",
    "import simulator, agent, simulator_interface, behavior\n",
    "from importlib import reload\n",
    "reload(simulator)\n",
    "reload(behavior)\n",
    "reload(simulator_interface)\n",
    "reload(agent)\n",
    "\n",
    "\"\"\""
   ]
  },
  {
   "cell_type": "markdown",
   "metadata": {
    "collapsed": false
   },
   "source": [
    "# Preparing the simulator"
   ]
  },
  {
   "cell_type": "code",
   "execution_count": 1,
   "metadata": {
    "pycharm": {
     "name": "#%%\n"
    }
   },
   "outputs": [],
   "source": [
    "from simulator_interface import open_session, close_session\n",
    "import random as rd\n",
    "import math\n",
    "agents = [\n",
    "    { \n",
    "        \"agent_type\": \"predator\",\n",
    "        # \"initial_coordinates\": ((0.5,0.6),2*rd.random()*math.pi),\n",
    "        \"initial_coordinates\": ((0.5,0.6),1.6),\n",
    "        \"radius\": 20,\n",
    "    },\n",
    "    # { \n",
    "    #     \"agent_type\": \"prey\",\n",
    "    #     # \"initial_coordinates\": ((0.1,0.9), 0.2),\n",
    "    #     \"initial_coordinates\": ((0.5,0.4), -1.6),\n",
    "    #     # \"initial_coordinates\": ((0.4,0.4), 2*rd.random()*math.pi),\n",
    "    #     \"radius\": 15,\n",
    "    # },\n",
    "    { \n",
    "        \"agent_type\": \"prey\",\n",
    "        \"initial_coordinates\": ((0.5,0.4), 2*rd.random()*math.pi),\n",
    "        \"radius\": 15,\n",
    "    },\n",
    "    # { \n",
    "    #     \"agent_type\": \"prey\",\n",
    "    #     \"initial_coordinates\": ((0.6,0.4), 2*rd.random()*math.pi),\n",
    "    #     \"radius\": 15,\n",
    "    # },\n",
    "    { \n",
    "        \"agent_type\": \"prey\",\n",
    "        \"initial_coordinates\": ((0.4,0.2), 2*rd.random()*math.pi),\n",
    "        \"radius\": 15,\n",
    "    },\n",
    "    # { \n",
    "    #     \"agent_type\": \"prey\",\n",
    "    #     \"initial_coordinates\": ((0.5,0.2), 2*rd.random()*math.pi),\n",
    "    #     \"radius\": 15,\n",
    "    # },\n",
    "    { \n",
    "        \"agent_type\": \"prey\",\n",
    "        \"initial_coordinates\": ((0.6,0.2), 2*rd.random()*math.pi),\n",
    "        \"radius\": 15,\n",
    "    }\n",
    "]\n",
    "\n",
    "playground = {\n",
    "    \"size\": (600,600),\n",
    "    \"interactions\": [\"BIG_EAT_SMALL\"]\n",
    "}\n",
    "\n",
    "simulation = open_session(nb_agents=len(agents), agents=agents, playground_params=playground)\n",
    "simulator = simulation[0]\n",
    "predator = simulation[1]\n",
    "preys = simulation[2:]"
   ]
  },
  {
   "cell_type": "code",
   "execution_count": null,
   "metadata": {},
   "outputs": [],
   "source": [
    "simulator.status()"
   ]
  },
  {
   "cell_type": "code",
   "execution_count": null,
   "metadata": {},
   "outputs": [],
   "source": [
    "# DEBUG CELL\n",
    "\n",
    "for prey in preys:\n",
    "    left, right = prey.prox_activations(tracked_objects=['Wall'])\n",
    "    print(left, right)\n",
    "    print(1- right, 1 - left)\n",
    "    # compute_speed = lambda x: (math.tanh(-4*x+2)+1)/2\n",
    "    # print(compute_speed(right), compute_speed(left))\n",
    "    # print(1/100*(right-left))\n",
    "    # print(1 - right - 1/(100*(right-left)), 1 - left + 1/(100*(right-left)))"
   ]
  },
  {
   "cell_type": "markdown",
   "metadata": {
    "collapsed": false,
    "pycharm": {
     "name": "#%% md\n"
    }
   },
   "source": [
    "# Testing aggression, fear and obstacle avoidance behaviors"
   ]
  },
  {
   "cell_type": "code",
   "execution_count": 3,
   "metadata": {},
   "outputs": [],
   "source": [
    "def obstacle_avoidance(robot):\n",
    "    left, right = robot.prox_activations(tracked_objects=['Wall'])\n",
    "    return 1 - right, 1 - left\n",
    "    \n",
    "def aggression(robot):\n",
    "    tracked_objects=[\"prey\"]\n",
    "    left, right = robot.prox_activations(tracked_objects)\n",
    "    return right, left\n",
    "\n",
    "def fear(robot):\n",
    "    tracked_objects=[\"predator\"]\n",
    "    left, right = robot.prox_activations(tracked_objects)\n",
    "    return left, right"
   ]
  },
  {
   "cell_type": "code",
   "execution_count": 6,
   "metadata": {},
   "outputs": [
    {
     "name": "stdout",
     "output_type": "stream",
     "text": [
      "Behavior fear started\n",
      "Behavior obstacle_avoidance started\n",
      "Behavior fear started\n",
      "Behavior obstacle_avoidance started\n",
      "Behavior fear started\n",
      "Behavior obstacle_avoidance started\n",
      "Behavior aggression started\n",
      "Behavior obstacle_avoidance started\n"
     ]
    }
   ],
   "source": [
    "for prey in preys:\n",
    "    prey.detach_all_behaviors()\n",
    "    prey.attach_behavior(obstacle_avoidance, freq=5)\n",
    "    prey.attach_behavior(fear, freq=10)\n",
    "    prey.start_behavior(fear)\n",
    "    prey.start_behavior(obstacle_avoidance)\n",
    "\n",
    "predator.detach_all_behaviors()\n",
    "predator.attach_behavior(obstacle_avoidance, freq=5)\n",
    "predator.attach_behavior(aggression, freq=10)\n",
    "predator.start_behavior(aggression)\n",
    "predator.start_behavior(obstacle_avoidance)\n",
    "    "
   ]
  },
  {
   "cell_type": "code",
   "execution_count": 5,
   "metadata": {},
   "outputs": [
    {
     "name": "stdout",
     "output_type": "stream",
     "text": [
      "Behavior fear stopped\n",
      "Behavior obstacle_avoidance stopped\n",
      "Behavior fear stopped\n",
      "Behavior obstacle_avoidance stopped\n",
      "Behavior fear stopped\n",
      "Behavior obstacle_avoidance stopped\n",
      "Behavior aggression stopped\n",
      "Behavior obstacle_avoidance stopped\n"
     ]
    }
   ],
   "source": [
    "for prey in preys:\n",
    "    prey.stop_behavior(fear)\n",
    "    prey.stop_behavior(obstacle_avoidance)\n",
    "    prey.stop()\n",
    "\n",
    "predator.stop_behavior(aggression)\n",
    "predator.stop_behavior(obstacle_avoidance)\n",
    "predator.stop()"
   ]
  },
  {
   "cell_type": "code",
   "execution_count": null,
   "metadata": {},
   "outputs": [],
   "source": [
    "close_session(simulator)"
   ]
  },
  {
   "cell_type": "markdown",
   "metadata": {
    "collapsed": false
   },
   "source": [
    "# Testing sphere apparition"
   ]
  },
  {
   "cell_type": "code",
   "execution_count": 176,
   "metadata": {
    "collapsed": false,
    "pycharm": {
     "name": "#%%\n"
    }
   },
   "outputs": [
    {
     "name": "stdout",
     "output_type": "stream",
     "text": [
      "Routine sphere_apparition started\n"
     ]
    }
   ],
   "source": [
    "simulator.start_sphere_apparition(period=10.)"
   ]
  },
  {
   "cell_type": "code",
   "execution_count": 177,
   "metadata": {
    "collapsed": false,
    "pycharm": {
     "name": "#%%\n"
    }
   },
   "outputs": [],
   "source": [
    "def seek_spheres(robot):\n",
    "    left, right = robot.prox_activations(tracked_objects=[\"Sphere\"])\n",
    "    left_wheel = 1 - left\n",
    "    right_wheel = 1 - right\n",
    "    return right, left"
   ]
  },
  {
   "cell_type": "code",
   "execution_count": 178,
   "metadata": {
    "collapsed": false,
    "pycharm": {
     "name": "#%%\n"
    }
   },
   "outputs": [
    {
     "name": "stdout",
     "output_type": "stream",
     "text": [
      "Behavior seek_spheres started\n"
     ]
    }
   ],
   "source": [
    "predator.detach_all_behaviors()\n",
    "\n",
    "predator.attach_behavior(seek_spheres, freq=1)\n",
    "predator.start_behavior(seek_spheres)"
   ]
  },
  {
   "cell_type": "code",
   "execution_count": null,
   "metadata": {
    "collapsed": false,
    "pycharm": {
     "name": "#%%\n"
    }
   },
   "outputs": [],
   "source": [
    "simulator.stop_sphere_apparition()"
   ]
  },
  {
   "cell_type": "code",
   "execution_count": null,
   "metadata": {
    "collapsed": false,
    "pycharm": {
     "name": "#%%\n"
    }
   },
   "outputs": [],
   "source": [
    "predator.stop_behavior(seek_spheres)\n",
    "predator.stop()"
   ]
  },
  {
   "cell_type": "code",
   "execution_count": null,
   "metadata": {
    "collapsed": false,
    "pycharm": {
     "name": "#%%\n"
    }
   },
   "outputs": [],
   "source": [
    "close_session(simulator)"
   ]
  }
 ],
 "metadata": {
  "kernelspec": {
   "display_name": "Python 3 (ipykernel)",
   "language": "python",
   "name": "python3"
  },
  "language_info": {
   "codemirror_mode": {
    "name": "ipython",
    "version": 3
   },
   "file_extension": ".py",
   "mimetype": "text/x-python",
   "name": "python",
   "nbconvert_exporter": "python",
   "pygments_lexer": "ipython3",
   "version": "3.8.12"
  }
 },
 "nbformat": 4,
 "nbformat_minor": 1
}
