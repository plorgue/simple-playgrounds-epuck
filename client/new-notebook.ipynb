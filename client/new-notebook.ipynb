{
 "cells": [
  {
   "cell_type": "code",
   "execution_count": 53,
   "metadata": {
    "pycharm": {
     "name": "#%%\n"
    }
   },
   "outputs": [
    {
     "data": {
      "text/plain": [
       "'\\n#Used only for Dev\\n\\nimport simulator, agent, simulator_interface, behavior\\nfrom importlib import reload\\nreload(simulator)\\nreload(behavior)\\nreload(simulator_interface)\\nreload(agent)\\n'"
      ]
     },
     "execution_count": 53,
     "metadata": {},
     "output_type": "execute_result"
    }
   ],
   "source": [
    "\"\"\"\n",
    "#Used only for Dev\n",
    "\n",
    "import simulator, agent, simulator_interface, behavior\n",
    "from importlib import reload\n",
    "reload(simulator)\n",
    "reload(behavior)\n",
    "reload(simulator_interface)\n",
    "reload(agent)\n",
    "\"\"\""
   ]
  },
  {
   "cell_type": "code",
   "execution_count": 54,
   "metadata": {
    "pycharm": {
     "name": "#%%\n"
    }
   },
   "outputs": [],
   "source": [
    "from simulator_interface import open_session, close_session\n",
    "simulator, epuck1, epuck2 = open_session(nb_agents=2, agent_types=['cat', 'mouse'])"
   ]
  },
  {
   "cell_type": "code",
   "execution_count": 65,
   "metadata": {},
   "outputs": [
    {
     "data": {
      "text/plain": [
       "'stop'"
      ]
     },
     "execution_count": 65,
     "metadata": {},
     "output_type": "execute_result"
    }
   ],
   "source": [
    "simulator.status()"
   ]
  },
  {
   "cell_type": "code",
   "execution_count": 56,
   "metadata": {
    "pycharm": {
     "name": "#%%\n"
    }
   },
   "outputs": [],
   "source": [
    "epuck1.wait(3)\n",
    "\n",
    "epuck1.left_spd = 3\n",
    "epuck1.right_spd = 3\n",
    "\n",
    "epuck1.wait(3)\n",
    "\n",
    "epuck1.left_spd = 0\n",
    "epuck1.right_spd = 0\n",
    "\n",
    "epuck1.wait(3)"
   ]
  },
  {
   "cell_type": "code",
   "execution_count": 57,
   "metadata": {},
   "outputs": [
    {
     "data": {
      "text/plain": [
       "'mouse'"
      ]
     },
     "execution_count": 57,
     "metadata": {},
     "output_type": "execute_result"
    }
   ],
   "source": [
    "epuck2.type"
   ]
  },
  {
   "cell_type": "code",
   "execution_count": 58,
   "metadata": {},
   "outputs": [],
   "source": [
    "def obstacle_avoidance(robot):\n",
    "    left, right = robot.prox_activations()\n",
    "    # print('\\r', left, '\\t' ,right, '\\t', left_wheel, '\\t', right_wheel, \" \"*100, end=\"\")\n",
    "    return right/1.2, left/1.2"
   ]
  },
  {
   "cell_type": "code",
   "execution_count": 59,
   "metadata": {},
   "outputs": [],
   "source": [
    "def agressive(robot):\n",
    "    left, right = robot.prox_activations(tracked_objects=[\"mouse\"])\n",
    "    # print('\\r', left, '\\t' ,right, '\\t', left_wheel, '\\t', right_wheel, \" \"*100, end=\"\")\n",
    "    return left, right, 0.5"
   ]
  },
  {
   "cell_type": "code",
   "execution_count": 60,
   "metadata": {},
   "outputs": [
    {
     "name": "stdout",
     "output_type": "stream",
     "text": [
      "Behavior obstacle_avoidance started\n",
      "Behavior agressive started\n"
     ]
    }
   ],
   "source": [
    "epuck1.detach_all_behaviors()\n",
    "epuck1.attach_behavior(obstacle_avoidance, freq=1)\n",
    "epuck1.attach_behavior(agressive, freq=2)\n",
    "epuck1.start_behavior(obstacle_avoidance)\n",
    "epuck1.start_behavior(agressive)"
   ]
  },
  {
   "cell_type": "code",
   "execution_count": 61,
   "metadata": {},
   "outputs": [
    {
     "name": "stdout",
     "output_type": "stream",
     "text": [
      "Behavior obstacle_avoidance started\n"
     ]
    }
   ],
   "source": [
    "epuck2.detach_all_behaviors()\n",
    "epuck2.attach_behavior(obstacle_avoidance, freq=1)\n",
    "epuck2.start_behavior(obstacle_avoidance)"
   ]
  },
  {
   "cell_type": "code",
   "execution_count": 62,
   "metadata": {},
   "outputs": [
    {
     "name": "stdout",
     "output_type": "stream",
     "text": [
      "Behavior obstacle_avoidance stopped\n",
      "Behavior agressive stopped\n",
      "Behavior obstacle_avoidance stopped\n"
     ]
    }
   ],
   "source": [
    "epuck1.stop_behavior(obstacle_avoidance)\n",
    "epuck1.stop_behavior(agressive)\n",
    "epuck1.stop()\n",
    "\n",
    "epuck2.stop_behavior(obstacle_avoidance)\n",
    "epuck2.stop()"
   ]
  },
  {
   "cell_type": "code",
   "execution_count": 63,
   "metadata": {
    "pycharm": {
     "name": "#%%\n"
    }
   },
   "outputs": [],
   "source": [
    "close_session(simulator)"
   ]
  }
 ],
 "metadata": {
  "kernelspec": {
   "display_name": "Python 3 (ipykernel)",
   "language": "python",
   "name": "python3"
  },
  "language_info": {
   "codemirror_mode": {
    "name": "ipython",
    "version": 3
   },
   "file_extension": ".py",
   "mimetype": "text/x-python",
   "name": "python",
   "nbconvert_exporter": "python",
   "pygments_lexer": "ipython3",
   "version": "3.8.9"
  }
 },
 "nbformat": 4,
 "nbformat_minor": 1
}
