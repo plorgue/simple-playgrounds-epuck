{
 "cells": [
  {
   "cell_type": "code",
   "execution_count": 13,
   "metadata": {
    "pycharm": {
     "name": "#%%\n"
    }
   },
   "outputs": [
    {
     "data": {
      "text/plain": [
       "'\\n#Used only for Dev\\n\\nimport simulator, agent, simulator_interface, behavior\\nfrom importlib import reload\\nreload(simulator)\\nreload(behavior)\\nreload(simulator_interface)\\nreload(agent)\\n'"
      ]
     },
     "execution_count": 13,
     "metadata": {},
     "output_type": "execute_result"
    }
   ],
   "source": [
    "\"\"\"\n",
    "#Used only for Dev\n",
    "\n",
    "import simulator, agent, simulator_interface, behavior\n",
    "from importlib import reload\n",
    "reload(simulator)\n",
    "reload(behavior)\n",
    "reload(simulator_interface)\n",
    "reload(agent)\n",
    "\"\"\""
   ]
  },
  {
   "cell_type": "code",
   "execution_count": 14,
   "metadata": {
    "pycharm": {
     "name": "#%%\n"
    }
   },
   "outputs": [],
   "source": [
    "from simulator_interface import open_session, close_session\n",
    "agents = [\n",
    "    { \n",
    "        \"agent_type\": \"predator\",\n",
    "        \"initial_coordinates\": ((0.55,0.4),1.6),\n",
    "        \"radius\": 15,\n",
    "     },\n",
    "    { \n",
    "        \"agent_type\": \"prey\",\n",
    "        \"initial_coordinates\": ((0.5,0.6),-1.6),\n",
    "        \"radius\": 8,\n",
    "     }\n",
    "]\n",
    "simulator, predator, prey = open_session(nb_agents=len(agents), agents=agents)"
   ]
  },
  {
   "cell_type": "code",
   "execution_count": 15,
   "metadata": {},
   "outputs": [
    {
     "data": {
      "text/plain": [
       "'stop'"
      ]
     },
     "execution_count": 15,
     "metadata": {},
     "output_type": "execute_result"
    }
   ],
   "source": [
    "simulator.status()"
   ]
  },
  {
   "cell_type": "code",
   "execution_count": 17,
   "metadata": {},
   "outputs": [],
   "source": [
    "def obstacle_avoidance(robot):\n",
    "    left, right = robot.prox_activations()\n",
    "    return right, left, 1"
   ]
  },
  {
   "cell_type": "code",
   "execution_count": 18,
   "metadata": {},
   "outputs": [],
   "source": [
    "def aggression(robot):\n",
    "    tracked_objects=[\"prey\"]\n",
    "    left, right, obj_left, obj_right = robot.prox_activations(tracked_objects, return_epucks=True)\n",
    "    activation = 4\n",
    "    if obj_left not in tracked_objects:\n",
    "        left = 1\n",
    "    if obj_right not in tracked_objects:\n",
    "        right = 1\n",
    "    if obj_left not in tracked_objects and obj_right not in tracked_objects:\n",
    "        activation = 0\n",
    "    return 1 - right, 1 - left, activation\n",
    "\n",
    "def fear(robot):\n",
    "    tracked_objects=[\"predator\"]\n",
    "    left, right, obj_left, obj_right = robot.prox_activations(tracked_objects, return_epucks=True)\n",
    "    activation = 4\n",
    "    if obj_left not in tracked_objects:\n",
    "        left = 1\n",
    "    if obj_right not in tracked_objects:\n",
    "        right = 1\n",
    "    if obj_left not in tracked_objects and obj_right not in tracked_objects:\n",
    "        activation = 0\n",
    "    return 1 - left, 1 - right, activation"
   ]
  },
  {
   "cell_type": "code",
   "execution_count": 19,
   "metadata": {},
   "outputs": [
    {
     "name": "stdout",
     "output_type": "stream",
     "text": [
      "Behavior obstacle_avoidance started\n",
      "Behavior aggression started\n"
     ]
    }
   ],
   "source": [
    "predator.detach_all_behaviors()\n",
    "\n",
    "predator.attach_behavior(obstacle_avoidance, freq=1)\n",
    "predator.attach_behavior(aggression, freq=1)\n",
    "\n",
    "predator.start_behavior(obstacle_avoidance)\n",
    "predator.start_behavior(aggression)"
   ]
  },
  {
   "cell_type": "code",
   "execution_count": 20,
   "metadata": {},
   "outputs": [
    {
     "name": "stdout",
     "output_type": "stream",
     "text": [
      "Behavior obstacle_avoidance started\n",
      "Behavior fear started\n"
     ]
    }
   ],
   "source": [
    "prey.detach_all_behaviors()\n",
    "\n",
    "prey.attach_behavior(obstacle_avoidance, freq=1)\n",
    "prey.attach_behavior(fear, freq=1)\n",
    "\n",
    "prey.start_behavior(obstacle_avoidance)\n",
    "prey.start_behavior(fear)"
   ]
  },
  {
   "cell_type": "code",
   "execution_count": 21,
   "metadata": {},
   "outputs": [
    {
     "name": "stdout",
     "output_type": "stream",
     "text": [
      "Behavior obstacle_avoidance stopped\n",
      "Behavior aggression stopped\n",
      "Behavior obstacle_avoidance stopped\n",
      "Behavior fear stopped\n"
     ]
    }
   ],
   "source": [
    "predator.stop_behavior(obstacle_avoidance)\n",
    "predator.stop_behavior(aggression)\n",
    "predator.stop()\n",
    "\n",
    "prey.stop_behavior(obstacle_avoidance)\n",
    "prey.stop_behavior(fear)\n",
    "prey.stop()"
   ]
  },
  {
   "cell_type": "code",
   "execution_count": 22,
   "metadata": {
    "pycharm": {
     "name": "#%%\n"
    }
   },
   "outputs": [],
   "source": [
    "close_session(simulator)"
   ]
  }
 ],
 "metadata": {
  "kernelspec": {
   "display_name": "Python 3 (ipykernel)",
   "language": "python",
   "name": "python3"
  },
  "language_info": {
   "codemirror_mode": {
    "name": "ipython",
    "version": 3
   },
   "file_extension": ".py",
   "mimetype": "text/x-python",
   "name": "python",
   "nbconvert_exporter": "python",
   "pygments_lexer": "ipython3",
   "version": "3.8.9"
  }
 },
 "nbformat": 4,
 "nbformat_minor": 1
}
