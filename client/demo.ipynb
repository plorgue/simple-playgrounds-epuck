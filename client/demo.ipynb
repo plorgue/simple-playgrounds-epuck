{
 "cells": [
  {
   "cell_type": "markdown",
   "metadata": {},
   "source": [
    "## Playground, agents and behaviors definitions"
   ]
  },
  {
   "cell_type": "code",
   "execution_count": null,
   "metadata": {},
   "outputs": [],
   "source": [
    "from simulator_interface import open_session, close_session\n",
    "import random as rd\n",
    "import math\n",
    "\n",
    "agents = [\n",
    "    { \n",
    "        \"agent_type\": \"predator\",\n",
    "        \"initial_coordinates\": ((0.5,0.6),2),\n",
    "        \"radius\": 20,\n",
    "        \"texture\": (192, 106, 47)\n",
    "    },\n",
    "    { \n",
    "        \"agent_type\": \"prey\",\n",
    "        \"initial_coordinates\": ((0.5,0.4), 2*rd.random()*math.pi),\n",
    "        \"radius\": 15,\n",
    "    },\n",
    "    { \n",
    "        \"agent_type\": \"prey\",\n",
    "        \"initial_coordinates\": ((0.4,0.2), 2*rd.random()*math.pi),\n",
    "        \"radius\": 15,\n",
    "    },\n",
    "    { \n",
    "        \"agent_type\": \"prey\",\n",
    "        \"initial_coordinates\": ((0.6,0.2), 2*rd.random()*math.pi),\n",
    "        \"radius\": 15,\n",
    "    }\n",
    "]\n",
    "\n",
    "playground = {\n",
    "    \"size\": (600,600),\n",
    "    \"interactions\": [\"BIG_EAT_SMALL\"]\n",
    "}\n",
    "\n",
    "\n",
    "def obstacle_avoidance(robot):\n",
    "    left, right = robot.prox_activations(tracked_objects=['Wall'])\n",
    "    return 1 - right, 1 - left\n",
    "    \n",
    "def aggression(robot):\n",
    "    left, right = robot.prox_activations(tracked_objects=[\"prey\"])\n",
    "    return right, left\n",
    "\n",
    "def fear(robot):\n",
    "    left, right = robot.prox_activations(tracked_objects=[\"predator\"])\n",
    "    return left, right\n",
    "\n",
    "def seek_candies(robot):\n",
    "    left, right = robot.prox_activations(tracked_objects=[\"Sphere\"])\n",
    "    return right, left"
   ]
  },
  {
   "cell_type": "markdown",
   "metadata": {},
   "source": [
    "## Start simulator"
   ]
  },
  {
   "cell_type": "code",
   "execution_count": null,
   "metadata": {},
   "outputs": [],
   "source": [
    "simulation = open_session(nb_agents=len(agents), agents=agents, playground_params=playground)\n",
    "\n",
    "simulator = simulation[0]\n",
    "predator = simulation[1]\n",
    "preys = simulation[2:]"
   ]
  },
  {
   "cell_type": "code",
   "execution_count": null,
   "metadata": {},
   "outputs": [],
   "source": [
    "simulator.start_sphere_apparition(period=10, eatable=True, radius=8)"
   ]
  },
  {
   "cell_type": "markdown",
   "metadata": {},
   "source": [
    "## Attach and start behaviors"
   ]
  },
  {
   "cell_type": "code",
   "execution_count": null,
   "metadata": {},
   "outputs": [],
   "source": [
    "for prey in preys:\n",
    "    prey.attach_behavior(obstacle_avoidance, freq=1)\n",
    "    prey.attach_behavior(fear, freq=3)\n",
    "    prey.attach_behavior(seek_candies, freq=5)\n",
    "    prey.start_behavior(seek_candies)\n",
    "    prey.start_behavior(fear)\n",
    "    prey.start_behavior(obstacle_avoidance)\n",
    "\n",
    "predator.attach_behavior(obstacle_avoidance, freq=1)\n",
    "predator.attach_behavior(aggression, freq=5)\n",
    "predator.start_behavior(aggression)\n",
    "predator.start_behavior(obstacle_avoidance)"
   ]
  },
  {
   "cell_type": "markdown",
   "metadata": {},
   "source": [
    "## Stop behaviors"
   ]
  },
  {
   "cell_type": "code",
   "execution_count": null,
   "metadata": {},
   "outputs": [],
   "source": [
    "simulator.stop_sphere_apparition()\n",
    "\n",
    "for prey in preys:\n",
    "    prey.stop_behavior(fear)\n",
    "    prey.stop_behavior(seek_candies)\n",
    "    prey.stop_behavior(obstacle_avoidance)\n",
    "    prey.stop()\n",
    "\n",
    "predator.stop_behavior(aggression)\n",
    "predator.stop_behavior(obstacle_avoidance)\n",
    "predator.stop()"
   ]
  },
  {
   "cell_type": "markdown",
   "metadata": {},
   "source": [
    "## Detach behaviors"
   ]
  },
  {
   "cell_type": "code",
   "execution_count": null,
   "metadata": {},
   "outputs": [],
   "source": [
    "for prey in preys:\n",
    "    prey.detach_all_behaviors()\n",
    "\n",
    "predator.detach_all_behaviors()"
   ]
  },
  {
   "cell_type": "markdown",
   "metadata": {},
   "source": [
    "## Close simulator"
   ]
  },
  {
   "cell_type": "code",
   "execution_count": null,
   "metadata": {},
   "outputs": [],
   "source": [
    "close_session(simulator)"
   ]
  }
 ],
 "metadata": {
  "interpreter": {
   "hash": "a17b1771daf03b1d85d31ea4392b44e89eacd342f0c053a96519d076e7afe3b2"
  },
  "kernelspec": {
   "display_name": "Python 3 (ipykernel)",
   "language": "python",
   "name": "python3"
  },
  "language_info": {
   "codemirror_mode": {
    "name": "ipython",
    "version": 3
   },
   "file_extension": ".py",
   "mimetype": "text/x-python",
   "name": "python",
   "nbconvert_exporter": "python",
   "pygments_lexer": "ipython3",
   "version": "3.8.12"
  }
 },
 "nbformat": 4,
 "nbformat_minor": 2
}
