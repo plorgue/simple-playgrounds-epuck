{
 "cells": [
  {
   "cell_type": "code",
   "execution_count": 41,
   "metadata": {},
   "outputs": [],
   "source": [
    "import requester\n",
    "import time"
   ]
  },
  {
   "cell_type": "code",
   "execution_count": 46,
   "metadata": {},
   "outputs": [
    {
     "data": {
      "text/plain": [
       "<module 'requester' from '/Users/jalalizekki/enseirb/ps/simple-playgrounds-epuck/client/requester.py'>"
      ]
     },
     "execution_count": 46,
     "metadata": {},
     "output_type": "execute_result"
    }
   ],
   "source": [
    "from importlib import reload\n",
    "reload(requester)"
   ]
  },
  {
   "cell_type": "code",
   "execution_count": 47,
   "metadata": {},
   "outputs": [
    {
     "name": "stdout",
     "output_type": "stream",
     "text": [
      "http://127.0.0.1:5000/open-session\n"
     ]
    },
    {
     "data": {
      "text/plain": [
       "<Response [200]>"
      ]
     },
     "execution_count": 47,
     "metadata": {},
     "output_type": "execute_result"
    }
   ],
   "source": [
    "requester.start_simulator(nb_agent = 1, sensor=\"proximiter\")"
   ]
  },
  {
   "cell_type": "code",
   "execution_count": 48,
   "metadata": {},
   "outputs": [
    {
     "name": "stdout",
     "output_type": "stream",
     "text": [
      "['epuck__0']\n"
     ]
    }
   ],
   "source": [
    "names = requester.get_agents_name()['names']\n",
    "print(names)"
   ]
  },
  {
   "cell_type": "code",
   "execution_count": 49,
   "metadata": {},
   "outputs": [
    {
     "data": {
      "text/plain": [
       "<Response [200]>"
      ]
     },
     "execution_count": 49,
     "metadata": {},
     "output_type": "execute_result"
    }
   ],
   "source": [
    "requester.set_speed(\n",
    "    {\n",
    "        \"agent_id\": \"epuck__0\",\n",
    "        \"new_speeds\": [0.2, 0.2] \n",
    "    }\n",
    ")"
   ]
  },
  {
   "cell_type": "code",
   "execution_count": 50,
   "metadata": {},
   "outputs": [
    {
     "data": {
      "text/plain": [
       "<Response [200]>"
      ]
     },
     "execution_count": 50,
     "metadata": {},
     "output_type": "execute_result"
    }
   ],
   "source": [
    "requester.set_speed(\n",
    "    {\n",
    "        \"agent_id\": \"epuck__0\",\n",
    "        \"new_speeds\": [0., 0.] \n",
    "    }\n",
    ")"
   ]
  },
  {
   "cell_type": "code",
   "execution_count": 51,
   "metadata": {},
   "outputs": [
    {
     "ename": "TypeError",
     "evalue": "set_speed() takes 1 positional argument but 2 were given",
     "output_type": "error",
     "traceback": [
      "\u001B[0;31m---------------------------------------------------------------------------\u001B[0m",
      "\u001B[0;31mTypeError\u001B[0m                                 Traceback (most recent call last)",
      "\u001B[0;32m/var/folders/gb/2s6lzrk946q_0xb3w6vwss9w0000gn/T/ipykernel_13548/2695000970.py\u001B[0m in \u001B[0;36m<module>\u001B[0;34m\u001B[0m\n\u001B[1;32m      1\u001B[0m \u001B[0;32mfor\u001B[0m \u001B[0m_\u001B[0m \u001B[0;32min\u001B[0m \u001B[0mrange\u001B[0m\u001B[0;34m(\u001B[0m\u001B[0;36m10\u001B[0m\u001B[0;34m)\u001B[0m\u001B[0;34m:\u001B[0m\u001B[0;34m\u001B[0m\u001B[0;34m\u001B[0m\u001B[0m\n\u001B[1;32m      2\u001B[0m     \u001B[0;32mfor\u001B[0m \u001B[0magent\u001B[0m \u001B[0;32min\u001B[0m \u001B[0mnames\u001B[0m\u001B[0;34m:\u001B[0m\u001B[0;34m\u001B[0m\u001B[0;34m\u001B[0m\u001B[0m\n\u001B[0;32m----> 3\u001B[0;31m         \u001B[0mrequester\u001B[0m\u001B[0;34m.\u001B[0m\u001B[0mset_speed\u001B[0m\u001B[0;34m(\u001B[0m\u001B[0magent\u001B[0m\u001B[0;34m,\u001B[0m \u001B[0;34m{\u001B[0m \u001B[0;34m'left'\u001B[0m\u001B[0;34m:\u001B[0m \u001B[0;36m0.4\u001B[0m\u001B[0;34m,\u001B[0m \u001B[0;34m'right'\u001B[0m\u001B[0;34m:\u001B[0m\u001B[0;36m0.4\u001B[0m \u001B[0;34m}\u001B[0m\u001B[0;34m)\u001B[0m\u001B[0;34m\u001B[0m\u001B[0;34m\u001B[0m\u001B[0m\n\u001B[0m\u001B[1;32m      4\u001B[0m     \u001B[0mtime\u001B[0m\u001B[0;34m.\u001B[0m\u001B[0msleep\u001B[0m\u001B[0;34m(\u001B[0m\u001B[0;36m1.2\u001B[0m\u001B[0;34m)\u001B[0m\u001B[0;34m\u001B[0m\u001B[0;34m\u001B[0m\u001B[0m\n\u001B[1;32m      5\u001B[0m     \u001B[0;32mfor\u001B[0m \u001B[0magent\u001B[0m \u001B[0;32min\u001B[0m \u001B[0mnames\u001B[0m\u001B[0;34m:\u001B[0m\u001B[0;34m\u001B[0m\u001B[0;34m\u001B[0m\u001B[0m\n",
      "\u001B[0;31mTypeError\u001B[0m: set_speed() takes 1 positional argument but 2 were given"
     ]
    }
   ],
   "source": [
    "for _ in range(10):\n",
    "    for agent in names:\n",
    "        requester.set_speed(agent, { 'left': 0.4, 'right':0.4 })\n",
    "    time.sleep(1.2)\n",
    "    for agent in names:\n",
    "        requester.set_speed(agent, { 'left': 0, 'right':0.5 })\n",
    "    time.sleep(1)\n",
    "\n",
    "for agent in names:\n",
    "    requester.set_speed(agent, {'left': 0, 'right': 0})"
   ]
  },
  {
   "cell_type": "code",
   "execution_count": 15,
   "metadata": {},
   "outputs": [
    {
     "data": {
      "text/plain": [
       "<Response [404]>"
      ]
     },
     "execution_count": 15,
     "metadata": {},
     "output_type": "execute_result"
    }
   ],
   "source": [
    "requester.get_agent_by_name('epuck__0')"
   ]
  },
  {
   "cell_type": "code",
   "execution_count": 16,
   "metadata": {},
   "outputs": [
    {
     "name": "stdout",
     "output_type": "stream",
     "text": [
      "<Response [404]>\n"
     ]
    }
   ],
   "source": [
    "for agent in names:\n",
    "    print(requester.get_agent_by_name(agent))"
   ]
  },
  {
   "cell_type": "code",
   "execution_count": 77,
   "metadata": {},
   "outputs": [
    {
     "data": {
      "text/plain": [
       "{'agent': 'agent_0',\n",
       " 'sensor': 'semanticcones_0',\n",
       " 'value': [{'angle': -2.879793265790644,\n",
       "   'dist': 0.8824666145162522,\n",
       "   'obj': 'Wall'},\n",
       "  {'angle': -2.705260340591211, 'dist': 0.7849057221092931, 'obj': 'Wall'},\n",
       "  {'angle': -2.530727415391778, 'dist': 0.7269897659575497, 'obj': 'Wall'},\n",
       "  {'angle': -2.356194490192345, 'dist': 0.6971426527924842, 'obj': 'Wall'},\n",
       "  {'angle': -2.181661564992912, 'dist': 0.68991939903186, 'obj': 'Wall'},\n",
       "  {'angle': -2.0071286397934793, 'dist': 0.6918585462972774, 'obj': 'Wall'},\n",
       "  {'angle': -1.832595714594046, 'dist': 0.712414993554587, 'obj': 'Wall'},\n",
       "  {'angle': -1.6580627893946132, 'dist': 0.7584595672828837, 'obj': 'Wall'},\n",
       "  {'angle': -1.4835298641951802, 'dist': 0.8385944929045864, 'obj': 'Wall'},\n",
       "  {'angle': -1.3089969389957472, 'dist': 0.9711258468873809, 'obj': 'Wall'},\n",
       "  {'angle': -0.7853981633974483, 'dist': 0.9824608424447996, 'obj': 'Wall'},\n",
       "  {'angle': -0.6108652381980151, 'dist': 0.9737283990625508, 'obj': 'Wall'},\n",
       "  {'angle': -0.43633231299858233, 'dist': 0.9774092814709021, 'obj': 'Wall'},\n",
       "  {'angle': 0.43633231299858233,\n",
       "   'dist': 0.8118693697706195,\n",
       "   'obj': 'MobilePlatform'}]}"
      ]
     },
     "execution_count": 77,
     "metadata": {},
     "output_type": "execute_result"
    }
   ],
   "source": [
    "requester.get_agent_sensor_by_name('agent_0', 'semanticcones_0')"
   ]
  },
  {
   "cell_type": "code",
   "execution_count": 81,
   "metadata": {},
   "outputs": [
    {
     "data": {
      "text/plain": [
       "{'agent': 'agent_0',\n",
       " 'sensor': 'semanticcones_0',\n",
       " 'value': [{'angle': -3.0543261909900767,\n",
       "   'dist': 0.11952909883377902,\n",
       "   'obj': 'Wall'},\n",
       "  {'angle': -2.879793265790644, 'dist': 0.16351713116493122, 'obj': 'Wall'},\n",
       "  {'angle': -2.705260340591211, 'dist': 0.2685545517177627, 'obj': 'Wall'},\n",
       "  {'angle': -2.530727415391778, 'dist': 0.7855492093600159, 'obj': 'Wall'},\n",
       "  {'angle': -1.3089969389957472,\n",
       "   'dist': 0.3924669443029351,\n",
       "   'obj': 'MobilePlatform'},\n",
       "  {'angle': -1.134464013796314,\n",
       "   'dist': 0.3957689920139128,\n",
       "   'obj': 'MobilePlatform'},\n",
       "  {'angle': 0.7853981633974487, 'dist': 0.3014484491850665, 'obj': 'Wall'},\n",
       "  {'angle': 0.959931088596881, 'dist': 0.1746816057348117, 'obj': 'Wall'},\n",
       "  {'angle': 1.1344640137963138, 'dist': 0.12492770320823383, 'obj': 'Wall'},\n",
       "  {'angle': 1.3089969389957474, 'dist': 0.09926480924168933, 'obj': 'Wall'},\n",
       "  {'angle': 1.4835298641951802, 'dist': 0.08436542145031156, 'obj': 'Wall'},\n",
       "  {'angle': 1.658062789394613, 'dist': 0.07535802119530373, 'obj': 'Wall'},\n",
       "  {'angle': 1.8325957145940466, 'dist': 0.07010283854774868, 'obj': 'Wall'},\n",
       "  {'angle': 2.0071286397934793, 'dist': 0.06759327224541568, 'obj': 'Wall'},\n",
       "  {'angle': 2.181661564992912, 'dist': 0.06721963494943657, 'obj': 'Wall'},\n",
       "  {'angle': 2.356194490192345, 'dist': 0.06771084838302262, 'obj': 'Wall'},\n",
       "  {'angle': 2.5307274153917776, 'dist': 0.07042711351361146, 'obj': 'Wall'},\n",
       "  {'angle': 2.7052603405912112, 'dist': 0.07594631728383676, 'obj': 'Wall'},\n",
       "  {'angle': 2.879793265790644, 'dist': 0.08534103078628233, 'obj': 'Wall'},\n",
       "  {'angle': 3.0543261909900767, 'dist': 0.10089344440809542, 'obj': 'Wall'}]}"
      ]
     },
     "execution_count": 81,
     "metadata": {},
     "output_type": "execute_result"
    }
   ],
   "source": [
    "requester.get_agent_sensor_by_name('agent_0', 'semanticcones_0')"
   ]
  },
  {
   "cell_type": "code",
   "execution_count": 39,
   "metadata": {},
   "outputs": [
    {
     "data": {
      "text/plain": [
       "<Response [200]>"
      ]
     },
     "execution_count": 39,
     "metadata": {},
     "output_type": "execute_result"
    }
   ],
   "source": [
    "requester.stop_simulator()"
   ]
  },
  {
   "cell_type": "code",
   "execution_count": 40,
   "metadata": {},
   "outputs": [
    {
     "data": {
      "text/plain": [
       "<Response [200]>"
      ]
     },
     "execution_count": 40,
     "metadata": {},
     "output_type": "execute_result"
    }
   ],
   "source": [
    "requester.reset_simulator()"
   ]
  }
 ],
 "metadata": {
  "interpreter": {
   "hash": "89124528f2f2854d7659cc18f381e07dff1d8eb448314010dc92b6a376f742f2"
  },
  "kernelspec": {
   "name": "python3",
   "language": "python",
   "display_name": "Python 3 (ipykernel)"
  },
  "language_info": {
   "codemirror_mode": {
    "name": "ipython",
    "version": 3
   },
   "file_extension": ".py",
   "mimetype": "text/x-python",
   "name": "python",
   "nbconvert_exporter": "python",
   "pygments_lexer": "ipython3",
   "version": "3.8.12"
  }
 },
 "nbformat": 4,
 "nbformat_minor": 2
}