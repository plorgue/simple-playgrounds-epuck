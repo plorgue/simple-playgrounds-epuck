{
 "cells": [
  {
   "cell_type": "code",
   "execution_count": 111,
   "metadata": {},
   "outputs": [],
   "source": [
    "import requester\n",
    "import time"
   ]
  },
  {
   "cell_type": "code",
   "execution_count": 171,
   "metadata": {},
   "outputs": [
    {
     "data": {
      "text/plain": [
       "<module 'requester' from 'd:\\\\Github\\\\projet_semestriel\\\\simple-playgrounds-epuck\\\\client\\\\requester.py'>"
      ]
     },
     "execution_count": 171,
     "metadata": {},
     "output_type": "execute_result"
    }
   ],
   "source": [
    "from importlib import reload\n",
    "reload(requester)"
   ]
  },
  {
   "cell_type": "code",
   "execution_count": 168,
   "metadata": {},
   "outputs": [
    {
     "name": "stdout",
     "output_type": "stream",
     "text": [
      "[]\n"
     ]
    }
   ],
   "source": [
    "requester.start_simulator(nb_agent = 3, sensor=\"proximiter\")"
   ]
  },
  {
   "cell_type": "code",
   "execution_count": 169,
   "metadata": {},
   "outputs": [
    {
     "name": "stdout",
     "output_type": "stream",
     "text": [
      "['agent_0', 'agent_1', 'agent_2']\n"
     ]
    }
   ],
   "source": [
    "names = requester.get_agents_name()['names']\n",
    "print(names)"
   ]
  },
  {
   "cell_type": "code",
   "execution_count": 110,
   "metadata": {},
   "outputs": [],
   "source": [
    "for _ in range(10):\n",
    "    for agent in names:\n",
    "        requester.set_speed(agent, { 'left': 0.4, 'right':0.4 })\n",
    "    time.sleep(1.2)\n",
    "    for agent in names:\n",
    "        requester.set_speed(agent, { 'left': 0, 'right':0.5 })\n",
    "    time.sleep(1)\n",
    "\n",
    "for agent in names:\n",
    "    requester.set_speed(agent, {'left': 0, 'right': 0})"
   ]
  },
  {
   "cell_type": "code",
   "execution_count": 165,
   "metadata": {},
   "outputs": [
    {
     "data": {
      "text/plain": [
       "{'name': 'agent_0',\n",
       " 'position': [[240.6433719202926, 90.46614171115954], -1.2060230862284549],\n",
       " 'rotation': 0.0,\n",
       " 'sensors': ['proximity_0'],\n",
       " 'velocity': [0.0, 0.0]}"
      ]
     },
     "execution_count": 165,
     "metadata": {},
     "output_type": "execute_result"
    }
   ],
   "source": [
    "requester.get_agent_by_name('agent_0')"
   ]
  },
  {
   "cell_type": "code",
   "execution_count": 166,
   "metadata": {},
   "outputs": [
    {
     "name": "stdout",
     "output_type": "stream",
     "text": [
      "{'name': 'agent_0', 'position': [[240.6433719202926, 90.46614171115954], -1.2060230862284549], 'rotation': 0.0, 'sensors': ['proximity_0'], 'velocity': [0.0, 0.0]}\n",
      "{'name': 'agent_1', 'position': [[243.36897111691914, 276.9475095299783], -2.437657914284585], 'rotation': 0.0, 'sensors': ['proximity_1'], 'velocity': [0.0, 0.0]}\n",
      "{'name': 'agent_2', 'position': [[85.8400259575015, 542.4067717564584], -2.4380528279566644], 'rotation': 0.0, 'sensors': ['proximity_2'], 'velocity': [0.0, 0.0]}\n"
     ]
    }
   ],
   "source": [
    "for agent in names:\n",
    "    print(requester.get_agent_by_name(agent))"
   ]
  },
  {
   "cell_type": "code",
   "execution_count": 172,
   "metadata": {},
   "outputs": [
    {
     "name": "stdout",
     "output_type": "stream",
     "text": [
      "{'agent': 'agent_0', 'sensor': 'proximity_0', 'value': [0.19486221016605612, 0.18904519942221384, 0.18108476656389627, 0.17087705478180568, 0.1582853315964193, 0.14313535577213884, 0.12520919789388793, 0.10423708727144856, 0.07988668374110716, 0.05174892375140473, 0.019319225960373197, 0.0, 0.0, 0.0, 0.0, 0.0, 0.0, 0.0, 0.0, 0.0, 0.0, 0.0, 0.0, 0.0, 0.0, 0.0, 0.0, 0.0, 0.0, 0.0, 0.0, 0.0, 0.0, 0.0, 0.0, 0.5221849689173786, 0.5300149760124376, 0.5186245814001682, 0.0, 0.0, 0.0, 0.0, 0.0, 0.0, 0.0, 0.0, 0.0, 0.0, 0.0, 0.0, 0.0, 0.0, 0.0, 0.0, 0.0, 0.0, 0.0, 0.0, 0.0, 0.13858710461345916, 0.13875557414640732, 0.0, 0.0, 0.0]}\n"
     ]
    }
   ],
   "source": [
    "requester.get_agent_sensor_by_name('agent_0', 'proximity_0')"
   ]
  }
 ],
 "metadata": {
  "interpreter": {
   "hash": "89124528f2f2854d7659cc18f381e07dff1d8eb448314010dc92b6a376f742f2"
  },
  "kernelspec": {
   "display_name": "Python 3.8.5 64-bit ('semes': conda)",
   "language": "python",
   "name": "python3"
  },
  "language_info": {
   "codemirror_mode": {
    "name": "ipython",
    "version": 3
   },
   "file_extension": ".py",
   "mimetype": "text/x-python",
   "name": "python",
   "nbconvert_exporter": "python",
   "pygments_lexer": "ipython3",
   "version": "3.8.5"
  },
  "orig_nbformat": 4
 },
 "nbformat": 4,
 "nbformat_minor": 2
}
