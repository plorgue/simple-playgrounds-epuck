{
 "cells": [
  {
   "cell_type": "code",
   "execution_count": 1,
   "metadata": {},
   "outputs": [],
   "source": [
    "import requester\n",
    "from importlib import reload\n",
    "\n",
    "newSpeeds = {\n",
    "    'speed_left': '0.3',\n",
    "    'speed_right': '0.5',\n",
    "    'epuck': 1\n",
    "}"
   ]
  },
  {
   "cell_type": "code",
   "execution_count": 2,
   "metadata": {},
   "outputs": [
    {
     "data": {
      "text/plain": [
       "<Response [200]>"
      ]
     },
     "execution_count": 2,
     "metadata": {},
     "output_type": "execute_result"
    }
   ],
   "source": [
    "reload(requester)\n",
    "\n",
    "requester.start_simulator()"
   ]
  },
  {
   "cell_type": "code",
   "execution_count": 3,
   "metadata": {},
   "outputs": [
    {
     "data": {
      "text/plain": [
       "<Response [200]>"
      ]
     },
     "execution_count": 3,
     "metadata": {},
     "output_type": "execute_result"
    }
   ],
   "source": [
    "reload(requester)\n",
    "\n",
    "requester.set_speed(newSpeeds)"
   ]
  }
 ],
 "metadata": {
  "interpreter": {
   "hash": "89124528f2f2854d7659cc18f381e07dff1d8eb448314010dc92b6a376f742f2"
  },
  "kernelspec": {
   "display_name": "Python 3.8.5 64-bit ('semes': conda)",
   "language": "python",
   "name": "python3"
  },
  "language_info": {
   "codemirror_mode": {
    "name": "ipython",
    "version": 3
   },
   "file_extension": ".py",
   "mimetype": "text/x-python",
   "name": "python",
   "nbconvert_exporter": "python",
   "pygments_lexer": "ipython3",
   "version": "3.8.5"
  },
  "orig_nbformat": 4
 },
 "nbformat": 4,
 "nbformat_minor": 2
}
