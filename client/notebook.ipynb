{
 "cells": [
  {
   "cell_type": "code",
   "execution_count": 30,
   "metadata": {},
   "outputs": [],
   "source": [
    "import requester\n",
    "import time"
   ]
  },
  {
   "cell_type": "code",
   "execution_count": 31,
   "metadata": {},
   "outputs": [
    {
     "data": {
      "text/plain": [
       "<module 'requester' from 'd:\\\\Github\\\\projet_semestriel\\\\simple-playgrounds-epuck\\\\client\\\\requester.py'>"
      ]
     },
     "execution_count": 31,
     "metadata": {},
     "output_type": "execute_result"
    }
   ],
   "source": [
    "from importlib import reload\n",
    "reload(requester)"
   ]
  },
  {
   "cell_type": "code",
   "execution_count": 76,
   "metadata": {},
   "outputs": [
    {
     "data": {
      "text/plain": [
       "<Response [200]>"
      ]
     },
     "execution_count": 76,
     "metadata": {},
     "output_type": "execute_result"
    }
   ],
   "source": [
    "requester.start_simulator(nb_agent = 3, sensor=\"proximiter\")"
   ]
  },
  {
   "cell_type": "code",
   "execution_count": 60,
   "metadata": {},
   "outputs": [
    {
     "name": "stdout",
     "output_type": "stream",
     "text": [
      "['agent_0', 'agent_1', 'agent_2']\n"
     ]
    }
   ],
   "source": [
    "names = requester.get_agents_name()['names']\n",
    "print(names)"
   ]
  },
  {
   "cell_type": "code",
   "execution_count": 80,
   "metadata": {},
   "outputs": [
    {
     "data": {
      "text/plain": [
       "<Response [200]>"
      ]
     },
     "execution_count": 80,
     "metadata": {},
     "output_type": "execute_result"
    }
   ],
   "source": [
    "requester.set_speed(\"agent_0\", { 'left': 0, 'right': 0 })"
   ]
  },
  {
   "cell_type": "code",
   "execution_count": 35,
   "metadata": {},
   "outputs": [],
   "source": [
    "for _ in range(10):\n",
    "    for agent in names:\n",
    "        requester.set_speed(agent, { 'left': 0.4, 'right':0.4 })\n",
    "    time.sleep(1.2)\n",
    "    for agent in names:\n",
    "        requester.set_speed(agent, { 'left': 0, 'right':0.5 })\n",
    "    time.sleep(1)\n",
    "\n",
    "for agent in names:\n",
    "    requester.set_speed(agent, {'left': 0, 'right': 0})"
   ]
  },
  {
   "cell_type": "code",
   "execution_count": 43,
   "metadata": {},
   "outputs": [
    {
     "data": {
      "text/plain": [
       "<Response [500]>"
      ]
     },
     "execution_count": 43,
     "metadata": {},
     "output_type": "execute_result"
    }
   ],
   "source": [
    "requester.get_agent_by_name('agent_0')"
   ]
  },
  {
   "cell_type": "code",
   "execution_count": 72,
   "metadata": {},
   "outputs": [
    {
     "name": "stdout",
     "output_type": "stream",
     "text": [
      "{'name': 'agent_0', 'position': [[75.59295290567542, 576.1449576205658], 2.940855061805327], 'rotation': -7.714339910630254e-132, 'sensors': ['semanticcones_0'], 'velocity': [7.061581069521734e-06, 6.678598070495955e-26]}\n",
      "{'name': 'agent_1', 'position': [[117.81241742165582, 332.04480418044216], 2.324904245619699], 'rotation': 0.0, 'sensors': ['semanticcones_1'], 'velocity': [0.0, 0.0]}\n",
      "{'name': 'agent_2', 'position': [[446.2388879278302, 129.24383999200793], 1.5936387799014344], 'rotation': 0.0, 'sensors': ['semanticcones_2'], 'velocity': [0.0, 0.0]}\n"
     ]
    }
   ],
   "source": [
    "for agent in names:\n",
    "    print(requester.get_agent_by_name(agent))"
   ]
  },
  {
   "cell_type": "code",
   "execution_count": 77,
   "metadata": {},
   "outputs": [
    {
     "data": {
      "text/plain": [
       "{'agent': 'agent_0',\n",
       " 'sensor': 'semanticcones_0',\n",
       " 'value': [{'angle': -2.879793265790644,\n",
       "   'dist': 0.8824666145162522,\n",
       "   'obj': 'Wall'},\n",
       "  {'angle': -2.705260340591211, 'dist': 0.7849057221092931, 'obj': 'Wall'},\n",
       "  {'angle': -2.530727415391778, 'dist': 0.7269897659575497, 'obj': 'Wall'},\n",
       "  {'angle': -2.356194490192345, 'dist': 0.6971426527924842, 'obj': 'Wall'},\n",
       "  {'angle': -2.181661564992912, 'dist': 0.68991939903186, 'obj': 'Wall'},\n",
       "  {'angle': -2.0071286397934793, 'dist': 0.6918585462972774, 'obj': 'Wall'},\n",
       "  {'angle': -1.832595714594046, 'dist': 0.712414993554587, 'obj': 'Wall'},\n",
       "  {'angle': -1.6580627893946132, 'dist': 0.7584595672828837, 'obj': 'Wall'},\n",
       "  {'angle': -1.4835298641951802, 'dist': 0.8385944929045864, 'obj': 'Wall'},\n",
       "  {'angle': -1.3089969389957472, 'dist': 0.9711258468873809, 'obj': 'Wall'},\n",
       "  {'angle': -0.7853981633974483, 'dist': 0.9824608424447996, 'obj': 'Wall'},\n",
       "  {'angle': -0.6108652381980151, 'dist': 0.9737283990625508, 'obj': 'Wall'},\n",
       "  {'angle': -0.43633231299858233, 'dist': 0.9774092814709021, 'obj': 'Wall'},\n",
       "  {'angle': 0.43633231299858233,\n",
       "   'dist': 0.8118693697706195,\n",
       "   'obj': 'MobilePlatform'}]}"
      ]
     },
     "execution_count": 77,
     "metadata": {},
     "output_type": "execute_result"
    }
   ],
   "source": [
    "requester.get_agent_sensor_by_name('agent_0', 'semanticcones_0')"
   ]
  },
  {
   "cell_type": "code",
   "execution_count": 81,
   "metadata": {},
   "outputs": [
    {
     "data": {
      "text/plain": [
       "{'agent': 'agent_0',\n",
       " 'sensor': 'semanticcones_0',\n",
       " 'value': [{'angle': -3.0543261909900767,\n",
       "   'dist': 0.11952909883377902,\n",
       "   'obj': 'Wall'},\n",
       "  {'angle': -2.879793265790644, 'dist': 0.16351713116493122, 'obj': 'Wall'},\n",
       "  {'angle': -2.705260340591211, 'dist': 0.2685545517177627, 'obj': 'Wall'},\n",
       "  {'angle': -2.530727415391778, 'dist': 0.7855492093600159, 'obj': 'Wall'},\n",
       "  {'angle': -1.3089969389957472,\n",
       "   'dist': 0.3924669443029351,\n",
       "   'obj': 'MobilePlatform'},\n",
       "  {'angle': -1.134464013796314,\n",
       "   'dist': 0.3957689920139128,\n",
       "   'obj': 'MobilePlatform'},\n",
       "  {'angle': 0.7853981633974487, 'dist': 0.3014484491850665, 'obj': 'Wall'},\n",
       "  {'angle': 0.959931088596881, 'dist': 0.1746816057348117, 'obj': 'Wall'},\n",
       "  {'angle': 1.1344640137963138, 'dist': 0.12492770320823383, 'obj': 'Wall'},\n",
       "  {'angle': 1.3089969389957474, 'dist': 0.09926480924168933, 'obj': 'Wall'},\n",
       "  {'angle': 1.4835298641951802, 'dist': 0.08436542145031156, 'obj': 'Wall'},\n",
       "  {'angle': 1.658062789394613, 'dist': 0.07535802119530373, 'obj': 'Wall'},\n",
       "  {'angle': 1.8325957145940466, 'dist': 0.07010283854774868, 'obj': 'Wall'},\n",
       "  {'angle': 2.0071286397934793, 'dist': 0.06759327224541568, 'obj': 'Wall'},\n",
       "  {'angle': 2.181661564992912, 'dist': 0.06721963494943657, 'obj': 'Wall'},\n",
       "  {'angle': 2.356194490192345, 'dist': 0.06771084838302262, 'obj': 'Wall'},\n",
       "  {'angle': 2.5307274153917776, 'dist': 0.07042711351361146, 'obj': 'Wall'},\n",
       "  {'angle': 2.7052603405912112, 'dist': 0.07594631728383676, 'obj': 'Wall'},\n",
       "  {'angle': 2.879793265790644, 'dist': 0.08534103078628233, 'obj': 'Wall'},\n",
       "  {'angle': 3.0543261909900767, 'dist': 0.10089344440809542, 'obj': 'Wall'}]}"
      ]
     },
     "execution_count": 81,
     "metadata": {},
     "output_type": "execute_result"
    }
   ],
   "source": [
    "requester.get_agent_sensor_by_name('agent_0', 'semanticcones_0')"
   ]
  },
  {
   "cell_type": "code",
   "execution_count": 39,
   "metadata": {},
   "outputs": [
    {
     "data": {
      "text/plain": [
       "<Response [200]>"
      ]
     },
     "execution_count": 39,
     "metadata": {},
     "output_type": "execute_result"
    }
   ],
   "source": [
    "requester.stop_simulator()"
   ]
  },
  {
   "cell_type": "code",
   "execution_count": 40,
   "metadata": {},
   "outputs": [
    {
     "data": {
      "text/plain": [
       "<Response [200]>"
      ]
     },
     "execution_count": 40,
     "metadata": {},
     "output_type": "execute_result"
    }
   ],
   "source": [
    "requester.reset_simulator()"
   ]
  }
 ],
 "metadata": {
  "interpreter": {
   "hash": "89124528f2f2854d7659cc18f381e07dff1d8eb448314010dc92b6a376f742f2"
  },
  "kernelspec": {
   "display_name": "Python 3.8.5 64-bit ('semes': conda)",
   "language": "python",
   "name": "python3"
  },
  "language_info": {
   "codemirror_mode": {
    "name": "ipython",
    "version": 3
   },
   "file_extension": ".py",
   "mimetype": "text/x-python",
   "name": "python",
   "nbconvert_exporter": "python",
   "pygments_lexer": "ipython3",
   "version": "3.8.12"
  },
  "orig_nbformat": 4
 },
 "nbformat": 4,
 "nbformat_minor": 2
}
